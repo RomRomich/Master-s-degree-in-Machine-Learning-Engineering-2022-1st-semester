{
 "cells": [
  {
   "cell_type": "code",
   "execution_count": 1,
   "metadata": {},
   "outputs": [
    {
     "name": "stdout",
     "output_type": "stream",
     "text": [
      "[[0.4036697247706422, 0.0, 0.4954128440366973, 1.0, 0.8440366972477065],\n",
      " [1.0, 0.0, 0.5381098214141136, 0.7961517876463293, 0.8328014527505609],\n",
      " [0.0, 0.0, 1.0, 0.0, 1.0],\n",
      " [1.0, 0.054770318021201414, 0.9169611307420494, 0.0, 0.9275618374558304],\n",
      " [0.020979020979021778, 0.0, 1.0, 0.7202797202797212, 0.9440559440559453]]\n"
     ]
    }
   ],
   "source": [
    "from pprint import pprint\n",
    "\n",
    "def scale_function(array):\n",
    "    result = []\n",
    "    for list_of_data in array:\n",
    "        x_max = max(list_of_data)\n",
    "        x_min = min(list_of_data)\n",
    "        list_of_data_scaled = []\n",
    "        for x in list_of_data:\n",
    "            x_scaled = (x-x_min) / (x_max-x_min)\n",
    "            list_of_data_scaled.append(x_scaled)  \n",
    "        result.append(list_of_data_scaled)\n",
    "    return result\n",
    "\n",
    "data = [\n",
    "    [25, -19, 35, 90, 73],\n",
    "    [14.86452745, -26.8915466, -4.42219305, 6.3526264, 7.88297253],\n",
    "    [0, 0, 1, 0, 1],\n",
    "    [837, 302, 790, 271, 796],\n",
    "    [49.97, 49.94, 51.37, 50.97, 51.29]]\n",
    "\n",
    "pprint(scale_function(data))"
   ]
  }
 ],
 "metadata": {
  "kernelspec": {
   "display_name": "Python 3",
   "language": "python",
   "name": "python3"
  },
  "language_info": {
   "codemirror_mode": {
    "name": "ipython",
    "version": 3
   },
   "file_extension": ".py",
   "mimetype": "text/x-python",
   "name": "python",
   "nbconvert_exporter": "python",
   "pygments_lexer": "ipython3",
   "version": "3.11.0"
  },
  "orig_nbformat": 4,
  "vscode": {
   "interpreter": {
    "hash": "2eb4bf021ca465a07efdaf8430f2f221b29a6a8823dd534445b38e13c28a3f68"
   }
  }
 },
 "nbformat": 4,
 "nbformat_minor": 2
}
