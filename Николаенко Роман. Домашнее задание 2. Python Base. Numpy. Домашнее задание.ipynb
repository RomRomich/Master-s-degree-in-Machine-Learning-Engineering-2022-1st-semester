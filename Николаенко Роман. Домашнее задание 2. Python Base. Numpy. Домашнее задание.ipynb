{
 "cells": [
  {
   "cell_type": "code",
   "execution_count": 5,
   "metadata": {},
   "outputs": [
    {
     "name": "stdout",
     "output_type": "stream",
     "text": [
      "array([[0.40366972, 0.        , 0.49541284, 1.        , 0.8440367 ],\n",
      "       [1.        , 0.        , 0.53810982, 0.79615179, 0.83280145],\n",
      "       [0.        , 0.        , 1.        , 0.        , 1.        ],\n",
      "       [1.        , 0.05477032, 0.91696113, 0.        , 0.92756184],\n",
      "       [0.02097902, 0.        , 1.        , 0.72027972, 0.94405594]])\n"
     ]
    }
   ],
   "source": [
    "import numpy as np\n",
    "from pprint import pprint\n",
    "\n",
    "def numpy_scaler(array):\n",
    "    array = np.array(array)\n",
    "    result = (array.T-array.min(axis=1)) / (array.max(axis=1)-array.min(axis=1))\n",
    "    result = result.T\n",
    "    return result\n",
    "\n",
    "data = [\n",
    "    [25, -19, 35, 90, 73],\n",
    "    [14.86452745, -26.8915466, -4.42219305, 6.3526264, 7.88297253],\n",
    "    [0, 0, 1, 0, 1],\n",
    "    [837, 302, 790, 271, 796],\n",
    "    [49.97, 49.94, 51.37, 50.97, 51.29]]\n",
    "\n",
    "pprint(numpy_scaler(data))"
   ]
  }
 ],
 "metadata": {
  "kernelspec": {
   "display_name": "Python 3",
   "language": "python",
   "name": "python3"
  },
  "language_info": {
   "codemirror_mode": {
    "name": "ipython",
    "version": 3
   },
   "file_extension": ".py",
   "mimetype": "text/x-python",
   "name": "python",
   "nbconvert_exporter": "python",
   "pygments_lexer": "ipython3",
   "version": "3.11.0"
  },
  "orig_nbformat": 4,
  "vscode": {
   "interpreter": {
    "hash": "2eb4bf021ca465a07efdaf8430f2f221b29a6a8823dd534445b38e13c28a3f68"
   }
  }
 },
 "nbformat": 4,
 "nbformat_minor": 2
}
